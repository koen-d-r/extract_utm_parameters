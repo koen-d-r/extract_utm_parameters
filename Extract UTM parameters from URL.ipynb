{
 "cells": [
  {
   "cell_type": "code",
   "execution_count": 1,
   "id": "a1208f41",
   "metadata": {},
   "outputs": [],
   "source": [
    "# import libraries\n",
    "import re"
   ]
  },
  {
   "cell_type": "code",
   "execution_count": 2,
   "id": "0a2817f2",
   "metadata": {},
   "outputs": [],
   "source": [
    "def extract_utm_parameters(link):\n",
    "    \n",
    "    \"\"\"Input is an URL with UTM parameters, and the output are cleaned UTM parameters\n",
    "    in a fixed sequence (utm_source, utm_medium, utm_campaign, utm_content). If the link \n",
    "    does not contain UTM parameters, None is returned.\"\"\"\n",
    "    \n",
    "    tags = []\n",
    "    \n",
    "    utm_source = None\n",
    "    utm_medium = None\n",
    "    utm_campaign = None\n",
    "    utm_content = None\n",
    "       \n",
    "    match = re.findall('utm_\\w+=[^\\&]+', link)\n",
    "    \n",
    "    if match:\n",
    "        for each in match:\n",
    "            if each.startswith('utm_source='):\n",
    "                utm_source = each.split('=')[1]\n",
    "            elif each.startswith('utm_medium='):\n",
    "                utm_medium = each.split('=')[1]\n",
    "            elif each.startswith('utm_campaign='):\n",
    "                utm_campaign = each.split('=')[1]\n",
    "            elif each.startswith('utm_content='):\n",
    "                utm_content = each.split('=')[1]\n",
    "    \n",
    "    tags.append(utm_source)\n",
    "    tags.append(utm_medium)\n",
    "    tags.append(utm_campaign)\n",
    "    tags.append(utm_content)\n",
    "    \n",
    "    return tags"
   ]
  },
  {
   "cell_type": "code",
   "execution_count": 10,
   "id": "8c6c8eb8",
   "metadata": {},
   "outputs": [],
   "source": [
    "test_url = 'https://www.nelson.nl/dames/schoenen/?o=new&ssid=0b7c89c10aff931e84f0fe61911b4892&utm_source=nieuwsbrief&utm_medium=e-mail&utm_campaign=5547_20220423_Nelson_Voorjaarsmusthaves&utm_content=7943296_Nelson_Voorjaarsmusthaves'"
   ]
  },
  {
   "cell_type": "code",
   "execution_count": 13,
   "id": "a7642f36",
   "metadata": {},
   "outputs": [
    {
     "data": {
      "text/plain": [
       "['nieuwsbrief',\n",
       " 'e-mail',\n",
       " '5547_20220423_Nelson_Voorjaarsmusthaves',\n",
       " '7943296_Nelson_Voorjaarsmusthaves']"
      ]
     },
     "execution_count": 13,
     "metadata": {},
     "output_type": "execute_result"
    }
   ],
   "source": [
    "extract_utm_parameters(test_url)"
   ]
  }
 ],
 "metadata": {
  "kernelspec": {
   "display_name": "Python 3 (ipykernel)",
   "language": "python",
   "name": "python3"
  },
  "language_info": {
   "codemirror_mode": {
    "name": "ipython",
    "version": 3
   },
   "file_extension": ".py",
   "mimetype": "text/x-python",
   "name": "python",
   "nbconvert_exporter": "python",
   "pygments_lexer": "ipython3",
   "version": "3.9.7"
  }
 },
 "nbformat": 4,
 "nbformat_minor": 5
}

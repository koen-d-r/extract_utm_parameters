{
 "cells": [
  {
   "cell_type": "code",
   "execution_count": 1,
   "id": "a1208f41",
   "metadata": {},
   "outputs": [],
   "source": [
    "# import libraries\n",
    "import re"
   ]
  },
  {
   "cell_type": "code",
   "execution_count": 17,
   "id": "6caf7829",
   "metadata": {},
   "outputs": [],
   "source": [
    "def extract_utm_parameters(link):\n",
    "    \n",
    "    \"\"\"Input is an URL with UTM parameters, and the output are cleaned UTM parameters\n",
    "    in a fixed sequence (utm_source, utm_medium, utm_campaign, utm_content). If the link \n",
    "    does not contain UTM parameters, None is returned.\"\"\"\n",
    "    \n",
    "    tags = [None, None, None, None]     \n",
    "    match = re.findall('utm_\\w+=[^\\&]+', link)\n",
    "    utms = ['utm_source=', 'utm_medium=', 'utm_campaign=', 'utm_content=']\n",
    "    \n",
    "    \n",
    "    for each in match:\n",
    "        for num, utm in enumerate(utms):\n",
    "            if each.startswith(utm):\n",
    "                tags[num] = each.split('=')[1]\n",
    "                    \n",
    "    return tags"
   ]
  },
  {
   "cell_type": "code",
   "execution_count": 26,
   "id": "8c6c8eb8",
   "metadata": {},
   "outputs": [],
   "source": [
    "test_url = 'https://www.nelson.nl/dames/schoenen/?o=new&ssid=0b7c89c10aff931e84f0fe61911b4892&utm_medium=e-mail&utm_campaign=5547_20220423_Nelson_Voorjaarsmusthaves&utm_content=7943296_Nelson_Voorjaarsmusthaves&utm_source=nieuwsbrief'"
   ]
  },
  {
   "cell_type": "code",
   "execution_count": 29,
   "id": "a7642f36",
   "metadata": {},
   "outputs": [
    {
     "data": {
      "text/plain": [
       "['nieuwsbrief',\n",
       " 'e-mail',\n",
       " '5547_20220423_Nelson_Voorjaarsmusthaves',\n",
       " '7943296_Nelson_Voorjaarsmusthaves']"
      ]
     },
     "execution_count": 29,
     "metadata": {},
     "output_type": "execute_result"
    }
   ],
   "source": [
    "extract_utm_parameters(test_url)"
   ]
  },
  {
   "cell_type": "code",
   "execution_count": null,
   "id": "fbd840e2",
   "metadata": {},
   "outputs": [],
   "source": []
  }
 ],
 "metadata": {
  "kernelspec": {
   "display_name": "Python 3 (ipykernel)",
   "language": "python",
   "name": "python3"
  },
  "language_info": {
   "codemirror_mode": {
    "name": "ipython",
    "version": 3
   },
   "file_extension": ".py",
   "mimetype": "text/x-python",
   "name": "python",
   "nbconvert_exporter": "python",
   "pygments_lexer": "ipython3",
   "version": "3.9.7"
  }
 },
 "nbformat": 4,
 "nbformat_minor": 5
}
